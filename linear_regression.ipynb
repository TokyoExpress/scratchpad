{
 "cells": [
  {
   "cell_type": "markdown",
   "source": [
    "# 2. Linear Regression\r\n",
    "\r\n",
    "Back to basics. We'll do the closed form solution, then use the backpropagation implementations from before to achieve the same solution with gradient descent. After that, we'll demonstrate the importance of nonlinearity."
   ],
   "metadata": {}
  },
  {
   "cell_type": "markdown",
   "source": [],
   "metadata": {}
  }
 ],
 "metadata": {
  "orig_nbformat": 4,
  "language_info": {
   "name": "python"
  }
 },
 "nbformat": 4,
 "nbformat_minor": 2
}