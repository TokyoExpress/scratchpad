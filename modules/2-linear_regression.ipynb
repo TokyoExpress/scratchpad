{
 "cells": [
  {
   "attachments": {},
   "cell_type": "markdown",
   "metadata": {},
   "source": [
    "# 2. Linear Regression\n",
    "\n",
    "Back to basics. We'll do the closed form solution, then use the backpropagation implementations from before to achieve the same solution with gradient descent. After that, we'll demonstrate the importance of nonlinearity.\n",
    "\n",
    "## 2.1 Closed-Form Solution\n",
    "\n",
    "Using this [very helpful explanation](https://github.com/ryankresse/normal_equation_intuition/blob/master/normal_equation.ipynb) as a reference.\n",
    "\n",
    "Okay, so linear regression attempts to find a set of weights and a bias that minimizes the error between the outputs and the true values. Because our desired result model is linear, the problem space is quite simple, so we are actually able to solve this without gradient descent: i.e. there is a closed-form mathematical solution to linear regression that is guaranteed to find the global minimum.\n",
    "\n",
    "That solution is possible because of the geometry of the problem, which can be visualized in the link above. I won't go into too much detail because it's already been very well explained there, but to summarize:\n",
    "\n",
    "1. We have an input vector $X$ and an output vector $Y$, for which we want to find $W$ such that $XW$ is as close to $Y$ as possible.\n",
    "2. The entries of vector $X$ can be used to create a column space, which you can think of as a plane containing all possible linear combinations of the features of $X$ (which in this case is just a single column for the $x$ variable and a column of ones for the $y$-intercept).\n",
    "3. If $Y$ is in the column space, the error is just the zero vector. Otherwise, for any possible $Y$ vector in space, the \"minimum error\" is achieved by taking the shortest distance from its terminal point to the column space, which is always orthogonal to the column space.\n",
    "4. Using the knowledge above, we can write out a property of the problem space, which is that the dot product of $X$ and the minimum error vector, given by $Y - XW$, is 0.\n",
    "$$X^T(Y-XW) = 0$$\n",
    "5. And after some tinkering around, we arrive at our closed-form solution.\n",
    "$$W = (X^TX)^{-1}X^TY$$\n",
    "\n",
    "Again, you can visit that link above for a more in-depth walkthrough of the steps above. But this is the gist of it.\n",
    "\n",
    "With this, we can go ahead and test it out!"
   ]
  },
  {
   "cell_type": "code",
   "execution_count": 37,
   "metadata": {},
   "outputs": [
    {
     "data": {
      "image/png": "[encoded data removed]",
      "text/plain": [
       "<matplotlib.figure.Figure at 0x7fffcfd37d30>"
      ]
     },
     "metadata": {},
     "output_type": "display_data"
    }
   ],
   "source": [
    "import numpy as np\n",
    "from matplotlib import pyplot as plt\n",
    "\n",
    "X = np.array([3, 5, 9, 10, 15])\n",
    "Y = np.array([8, 11, 13, 15, 17])\n",
    "\n",
    "plt.scatter(X, Y)\n",
    "plt.show()"
   ]
  },
  {
   "attachments": {},
   "cell_type": "markdown",
   "metadata": {},
   "source": [
    "We can create the input vector by adding a column of ones to X. Then it's just as simple as applying the solution equation:"
   ]
  },
  {
   "cell_type": "code",
   "execution_count": 39,
   "metadata": {},
   "outputs": [
    {
     "data": {
      "image/png": "[encoded data removed]",
      "text/plain": [
       "<matplotlib.figure.Figure at 0x7fffcfcd1c50>"
      ]
     },
     "metadata": {},
     "output_type": "display_data"
    }
   ],
   "source": [
    "X_plus1 = np.concatenate([X.reshape(5, 1), np.ones([5, 1])], axis=1)\n",
    "W = np.linalg.inv(X_plus1.T @ X_plus1) @ X_plus1.T @ Y\n",
    "\n",
    "x = np.linspace(0, 18, 100)\n",
    "y = W[0]*x + W[1]\n",
    "\n",
    "plt.scatter(X, Y)\n",
    "plt.plot(x, y)\n",
    "plt.show()"
   ]
  },
  {
   "cell_type": "code",
   "execution_count": 36,
   "metadata": {},
   "outputs": [
    {
     "data": {
      "text/plain": [
       "array([ 0.72706422,  6.69266055])"
      ]
     },
     "execution_count": 36,
     "metadata": {},
     "output_type": "execute_result"
    }
   ],
   "source": [
    "W"
   ]
  },
  {
   "cell_type": "code",
   "execution_count": null,
   "metadata": {},
   "outputs": [],
   "source": []
  }
 ],
 "metadata": {
  "kernelspec": {
   "display_name": "Python 3",
   "language": "python",
   "name": "python3"
  },
  "language_info": {
   "codemirror_mode": {
    "name": "ipython",
    "version": 3
   },
   "file_extension": ".py",
   "mimetype": "text/x-python",
   "name": "python",
   "nbconvert_exporter": "python",
   "pygments_lexer": "ipython3",
   "version": "3.6.9"
  },
  "orig_nbformat": 4,
  "vscode": {
   "interpreter": {
    "hash": "767d51c1340bd893661ea55ea3124f6de3c7a262a8b4abca0554b478b1e2ff90"
   }
  }
 },
 "nbformat": 4,
 "nbformat_minor": 2
}
