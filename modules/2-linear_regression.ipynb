{
 "cells": [
  {
   "cell_type": "markdown",
   "source": [
    "# 2. Linear Regression\r\n",
    "\r\n",
    "Back to basics. We'll do the closed form solution, then use the backpropagation implementations from before to achieve the same solution with gradient descent. After that, we'll demonstrate the importance of nonlinearity.\r\n",
    "\r\n",
    "## Closed-Form Solution\r\n",
    "\r\n",
    "Okay, so linear regression attempts to find a set of weights and a bias that minimizes the error between the outputs and the true values."
   ],
   "metadata": {}
  },
  {
   "cell_type": "markdown",
   "source": [],
   "metadata": {}
  }
 ],
 "metadata": {
  "orig_nbformat": 4,
  "language_info": {
   "name": "python"
  }
 },
 "nbformat": 4,
 "nbformat_minor": 2
}