{
 "cells": [
  {
   "attachments": {},
   "cell_type": "markdown",
   "metadata": {},
   "source": [
    "# 2. Linear Regression\n",
    "\n",
    "Back to basics. We'll do the closed form solution, then use the backpropagation implementations from before to achieve the same solution with gradient descent. After that, we'll demonstrate the importance of nonlinearity.\n",
    "\n",
    "## 2.1 Closed-Form Solution\n",
    "\n",
    "Okay, so linear regression attempts to find a set of weights and a bias that minimizes the error between the outputs and the true values."
   ]
  },
  {
   "cell_type": "markdown",
   "metadata": {},
   "source": []
  }
 ],
 "metadata": {
  "kernelspec": {
   "display_name": "Python 3",
   "language": "python",
   "name": "python3"
  },
  "language_info": {
   "name": "python",
   "version": "3.10.5"
  },
  "orig_nbformat": 4,
  "vscode": {
   "interpreter": {
    "hash": "aee8b7b246df8f9039afb4144a1f6fd8d2ca17a180786b69acc140d282b71a49"
   }
  }
 },
 "nbformat": 4,
 "nbformat_minor": 2
}
